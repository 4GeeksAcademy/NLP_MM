{
    "cells": [
        {
            "cell_type": "markdown",
            "metadata": {},
            "source": [
                "# Explore here"
            ]
        },
        {
            "cell_type": "code",
            "execution_count": 1,
            "metadata": {},
            "outputs": [
                {
                    "data": {
                        "text/html": [
                            "<div>\n",
                            "<style scoped>\n",
                            "    .dataframe tbody tr th:only-of-type {\n",
                            "        vertical-align: middle;\n",
                            "    }\n",
                            "\n",
                            "    .dataframe tbody tr th {\n",
                            "        vertical-align: top;\n",
                            "    }\n",
                            "\n",
                            "    .dataframe thead th {\n",
                            "        text-align: right;\n",
                            "    }\n",
                            "</style>\n",
                            "<table border=\"1\" class=\"dataframe\">\n",
                            "  <thead>\n",
                            "    <tr style=\"text-align: right;\">\n",
                            "      <th></th>\n",
                            "      <th>url</th>\n",
                            "      <th>is_spam</th>\n",
                            "    </tr>\n",
                            "  </thead>\n",
                            "  <tbody>\n",
                            "    <tr>\n",
                            "      <th>0</th>\n",
                            "      <td>https://briefingday.us8.list-manage.com/unsubs...</td>\n",
                            "      <td>True</td>\n",
                            "    </tr>\n",
                            "    <tr>\n",
                            "      <th>1</th>\n",
                            "      <td>https://www.hvper.com/</td>\n",
                            "      <td>True</td>\n",
                            "    </tr>\n",
                            "    <tr>\n",
                            "      <th>2</th>\n",
                            "      <td>https://briefingday.com/m/v4n3i4f3</td>\n",
                            "      <td>True</td>\n",
                            "    </tr>\n",
                            "    <tr>\n",
                            "      <th>3</th>\n",
                            "      <td>https://briefingday.com/n/20200618/m#commentform</td>\n",
                            "      <td>False</td>\n",
                            "    </tr>\n",
                            "    <tr>\n",
                            "      <th>4</th>\n",
                            "      <td>https://briefingday.com/fan</td>\n",
                            "      <td>True</td>\n",
                            "    </tr>\n",
                            "  </tbody>\n",
                            "</table>\n",
                            "</div>"
                        ],
                        "text/plain": [
                            "                                                 url  is_spam\n",
                            "0  https://briefingday.us8.list-manage.com/unsubs...     True\n",
                            "1                             https://www.hvper.com/     True\n",
                            "2                 https://briefingday.com/m/v4n3i4f3     True\n",
                            "3   https://briefingday.com/n/20200618/m#commentform    False\n",
                            "4                        https://briefingday.com/fan     True"
                        ]
                    },
                    "execution_count": 1,
                    "metadata": {},
                    "output_type": "execute_result"
                }
            ],
            "source": [
                "import pandas as pd\n",
                "\n",
                "# Cargar el conjunto de datos\n",
                "url = \"https://raw.githubusercontent.com/4GeeksAcademy/NLP-project-tutorial/main/url_spam.csv\"\n",
                "data = pd.read_csv(url)\n",
                "\n",
                "# Mostrar las primeras filas del conjunto de datos\n",
                "data.head()"
            ]
        },
        {
            "cell_type": "markdown",
            "metadata": {},
            "source": [
                "Paso 2: Preproceso de los Datos"
            ]
        },
        {
            "cell_type": "code",
            "execution_count": 3,
            "metadata": {},
            "outputs": [
                {
                    "name": "stderr",
                    "output_type": "stream",
                    "text": [
                        "[nltk_data] Downloading package stopwords to /home/vscode/nltk_data...\n",
                        "[nltk_data]   Unzipping corpora/stopwords.zip.\n",
                        "[nltk_data] Downloading package wordnet to /home/vscode/nltk_data...\n"
                    ]
                }
            ],
            "source": [
                "import re\n",
                "import nltk\n",
                "from nltk.corpus import stopwords\n",
                "from nltk.stem import WordNetLemmatizer\n",
                "\n",
                "\n",
                "# Descargar recursos necesarios\n",
                "nltk.download('stopwords')\n",
                "nltk.download('wordnet')\n",
                "\n",
                "stop_words = set(stopwords.words('english'))\n",
                "lemmatizer = WordNetLemmatizer()\n",
                "\n",
                "def preprocess_url(url):\n",
                "    # Segmentar la URL utilizando signos de puntuación\n",
                "    tokens = re.split(r'\\W+', url)\n",
                "    # Convertir a minúsculas y eliminar stopwords\n",
                "    tokens = [token.lower() for token in tokens if token.lower() not in stop_words]\n",
                "    # Lematizar\n",
                "    tokens = [lemmatizer.lemmatize(token) for token in tokens]\n",
                "    return ' '.join(tokens)\n",
                "\n",
                "# Aplicar el preprocesamiento a las URLs\n",
                "data['processed_url'] = data['url'].apply(preprocess_url)"
            ]
        },
        {
            "cell_type": "code",
            "execution_count": 5,
            "metadata": {},
            "outputs": [
                {
                    "name": "stdout",
                    "output_type": "stream",
                    "text": [
                        "(2399,) (600,) (2399,) (600,)\n"
                    ]
                }
            ],
            "source": [
                "from sklearn.model_selection import train_test_split\n",
                "from sklearn.feature_extraction.text import TfidfVectorizer\n",
                "\n",
                "# Dividir el conjunto de datos en train y test\n",
                "X_train, X_test, y_train, y_test = train_test_split(data['processed_url'], data['is_spam'], test_size=0.2, random_state=42)\n",
                "\n",
                "# Verificar división\n",
                "print(X_train.shape, X_test.shape, y_train.shape, y_test.shape)"
            ]
        },
        {
            "cell_type": "code",
            "execution_count": 6,
            "metadata": {},
            "outputs": [
                {
                    "name": "stdout",
                    "output_type": "stream",
                    "text": [
                        "Accuracy: 0.9483333333333334\n",
                        "              precision    recall  f1-score   support\n",
                        "\n",
                        "       False       0.96      0.97      0.97       455\n",
                        "        True       0.91      0.88      0.89       145\n",
                        "\n",
                        "    accuracy                           0.95       600\n",
                        "   macro avg       0.93      0.92      0.93       600\n",
                        "weighted avg       0.95      0.95      0.95       600\n",
                        "\n"
                    ]
                }
            ],
            "source": [
                "from sklearn.svm import SVC\n",
                "from sklearn.pipeline import make_pipeline\n",
                "from sklearn.metrics import classification_report, accuracy_score\n",
                "\n",
                "# Construir el pipeline con TfidfVectorizer y SVM\n",
                "pipeline = make_pipeline(TfidfVectorizer(), SVC())\n",
                "\n",
                "# Entrenar el modelo\n",
                "pipeline.fit(X_train, y_train)\n",
                "\n",
                "# Predecir en el conjunto de prueba\n",
                "y_pred = pipeline.predict(X_test)\n",
                "\n",
                "# Evaluar los resultados\n",
                "print(\"Accuracy:\", accuracy_score(y_test, y_pred))\n",
                "print(classification_report(y_test, y_pred))"
            ]
        },
        {
            "cell_type": "markdown",
            "metadata": {},
            "source": [
                "Optimizar Modelo con Grid Search"
            ]
        },
        {
            "cell_type": "code",
            "execution_count": 12,
            "metadata": {},
            "outputs": [
                {
                    "name": "stdout",
                    "output_type": "stream",
                    "text": [
                        "Fitting 5 folds for each of 18 candidates, totalling 90 fits\n",
                        "[CV] END ..........svc__C=0.1, svc__gamma=1, svc__kernel=rbf; total time=   0.3s\n",
                        "[CV] END ..........svc__C=0.1, svc__gamma=1, svc__kernel=rbf; total time=   0.3s\n",
                        "[CV] END ..........svc__C=0.1, svc__gamma=1, svc__kernel=rbf; total time=   0.3s\n",
                        "[CV] END ..........svc__C=0.1, svc__gamma=1, svc__kernel=rbf; total time=   0.3s\n",
                        "[CV] END ..........svc__C=0.1, svc__gamma=1, svc__kernel=rbf; total time=   0.3s\n",
                        "[CV] END .......svc__C=0.1, svc__gamma=1, svc__kernel=linear; total time=   0.2s\n",
                        "[CV] END .......svc__C=0.1, svc__gamma=1, svc__kernel=linear; total time=   0.2s\n",
                        "[CV] END .......svc__C=0.1, svc__gamma=1, svc__kernel=linear; total time=   0.2s\n",
                        "[CV] END .......svc__C=0.1, svc__gamma=1, svc__kernel=linear; total time=   0.2s\n",
                        "[CV] END .......svc__C=0.1, svc__gamma=1, svc__kernel=linear; total time=   0.2s\n",
                        "[CV] END ........svc__C=0.1, svc__gamma=0.1, svc__kernel=rbf; total time=   0.2s\n",
                        "[CV] END ........svc__C=0.1, svc__gamma=0.1, svc__kernel=rbf; total time=   0.2s\n",
                        "[CV] END ........svc__C=0.1, svc__gamma=0.1, svc__kernel=rbf; total time=   0.2s\n",
                        "[CV] END ........svc__C=0.1, svc__gamma=0.1, svc__kernel=rbf; total time=   0.2s\n",
                        "[CV] END ........svc__C=0.1, svc__gamma=0.1, svc__kernel=rbf; total time=   0.2s\n",
                        "[CV] END .....svc__C=0.1, svc__gamma=0.1, svc__kernel=linear; total time=   0.2s\n",
                        "[CV] END .....svc__C=0.1, svc__gamma=0.1, svc__kernel=linear; total time=   0.2s\n",
                        "[CV] END .....svc__C=0.1, svc__gamma=0.1, svc__kernel=linear; total time=   0.2s\n",
                        "[CV] END .....svc__C=0.1, svc__gamma=0.1, svc__kernel=linear; total time=   0.2s\n",
                        "[CV] END .....svc__C=0.1, svc__gamma=0.1, svc__kernel=linear; total time=   0.2s\n",
                        "[CV] END .......svc__C=0.1, svc__gamma=0.01, svc__kernel=rbf; total time=   0.2s\n",
                        "[CV] END .......svc__C=0.1, svc__gamma=0.01, svc__kernel=rbf; total time=   0.2s\n",
                        "[CV] END .......svc__C=0.1, svc__gamma=0.01, svc__kernel=rbf; total time=   0.2s\n",
                        "[CV] END .......svc__C=0.1, svc__gamma=0.01, svc__kernel=rbf; total time=   0.2s\n",
                        "[CV] END .......svc__C=0.1, svc__gamma=0.01, svc__kernel=rbf; total time=   0.2s\n",
                        "[CV] END ....svc__C=0.1, svc__gamma=0.01, svc__kernel=linear; total time=   0.2s\n",
                        "[CV] END ....svc__C=0.1, svc__gamma=0.01, svc__kernel=linear; total time=   0.2s\n",
                        "[CV] END ....svc__C=0.1, svc__gamma=0.01, svc__kernel=linear; total time=   0.2s\n",
                        "[CV] END ....svc__C=0.1, svc__gamma=0.01, svc__kernel=linear; total time=   0.2s\n",
                        "[CV] END ....svc__C=0.1, svc__gamma=0.01, svc__kernel=linear; total time=   0.2s\n",
                        "[CV] END ............svc__C=1, svc__gamma=1, svc__kernel=rbf; total time=   0.3s\n",
                        "[CV] END ............svc__C=1, svc__gamma=1, svc__kernel=rbf; total time=   0.3s\n",
                        "[CV] END ............svc__C=1, svc__gamma=1, svc__kernel=rbf; total time=   0.3s\n",
                        "[CV] END ............svc__C=1, svc__gamma=1, svc__kernel=rbf; total time=   0.3s\n",
                        "[CV] END ............svc__C=1, svc__gamma=1, svc__kernel=rbf; total time=   0.4s\n",
                        "[CV] END .........svc__C=1, svc__gamma=1, svc__kernel=linear; total time=   0.2s\n",
                        "[CV] END .........svc__C=1, svc__gamma=1, svc__kernel=linear; total time=   0.2s\n",
                        "[CV] END .........svc__C=1, svc__gamma=1, svc__kernel=linear; total time=   0.2s\n",
                        "[CV] END .........svc__C=1, svc__gamma=1, svc__kernel=linear; total time=   0.2s\n",
                        "[CV] END .........svc__C=1, svc__gamma=1, svc__kernel=linear; total time=   0.2s\n",
                        "[CV] END ..........svc__C=1, svc__gamma=0.1, svc__kernel=rbf; total time=   0.2s\n",
                        "[CV] END ..........svc__C=1, svc__gamma=0.1, svc__kernel=rbf; total time=   0.2s\n",
                        "[CV] END ..........svc__C=1, svc__gamma=0.1, svc__kernel=rbf; total time=   0.2s\n",
                        "[CV] END ..........svc__C=1, svc__gamma=0.1, svc__kernel=rbf; total time=   0.2s\n",
                        "[CV] END ..........svc__C=1, svc__gamma=0.1, svc__kernel=rbf; total time=   0.2s\n",
                        "[CV] END .......svc__C=1, svc__gamma=0.1, svc__kernel=linear; total time=   0.2s\n",
                        "[CV] END .......svc__C=1, svc__gamma=0.1, svc__kernel=linear; total time=   0.2s\n",
                        "[CV] END .......svc__C=1, svc__gamma=0.1, svc__kernel=linear; total time=   0.2s\n",
                        "[CV] END .......svc__C=1, svc__gamma=0.1, svc__kernel=linear; total time=   0.2s\n",
                        "[CV] END .......svc__C=1, svc__gamma=0.1, svc__kernel=linear; total time=   0.2s\n",
                        "[CV] END .........svc__C=1, svc__gamma=0.01, svc__kernel=rbf; total time=   0.3s\n",
                        "[CV] END .........svc__C=1, svc__gamma=0.01, svc__kernel=rbf; total time=   0.2s\n",
                        "[CV] END .........svc__C=1, svc__gamma=0.01, svc__kernel=rbf; total time=   0.2s\n",
                        "[CV] END .........svc__C=1, svc__gamma=0.01, svc__kernel=rbf; total time=   0.2s\n",
                        "[CV] END .........svc__C=1, svc__gamma=0.01, svc__kernel=rbf; total time=   0.2s\n",
                        "[CV] END ......svc__C=1, svc__gamma=0.01, svc__kernel=linear; total time=   0.2s\n",
                        "[CV] END ......svc__C=1, svc__gamma=0.01, svc__kernel=linear; total time=   0.2s\n",
                        "[CV] END ......svc__C=1, svc__gamma=0.01, svc__kernel=linear; total time=   0.2s\n",
                        "[CV] END ......svc__C=1, svc__gamma=0.01, svc__kernel=linear; total time=   0.2s\n",
                        "[CV] END ......svc__C=1, svc__gamma=0.01, svc__kernel=linear; total time=   0.2s\n",
                        "[CV] END ...........svc__C=10, svc__gamma=1, svc__kernel=rbf; total time=   0.3s\n",
                        "[CV] END ...........svc__C=10, svc__gamma=1, svc__kernel=rbf; total time=   0.3s\n",
                        "[CV] END ...........svc__C=10, svc__gamma=1, svc__kernel=rbf; total time=   0.4s\n",
                        "[CV] END ...........svc__C=10, svc__gamma=1, svc__kernel=rbf; total time=   0.4s\n",
                        "[CV] END ...........svc__C=10, svc__gamma=1, svc__kernel=rbf; total time=   0.3s\n",
                        "[CV] END ........svc__C=10, svc__gamma=1, svc__kernel=linear; total time=   0.1s\n",
                        "[CV] END ........svc__C=10, svc__gamma=1, svc__kernel=linear; total time=   0.1s\n",
                        "[CV] END ........svc__C=10, svc__gamma=1, svc__kernel=linear; total time=   0.2s\n",
                        "[CV] END ........svc__C=10, svc__gamma=1, svc__kernel=linear; total time=   0.2s\n",
                        "[CV] END ........svc__C=10, svc__gamma=1, svc__kernel=linear; total time=   0.1s\n",
                        "[CV] END .........svc__C=10, svc__gamma=0.1, svc__kernel=rbf; total time=   0.2s\n",
                        "[CV] END .........svc__C=10, svc__gamma=0.1, svc__kernel=rbf; total time=   0.2s\n",
                        "[CV] END .........svc__C=10, svc__gamma=0.1, svc__kernel=rbf; total time=   0.2s\n",
                        "[CV] END .........svc__C=10, svc__gamma=0.1, svc__kernel=rbf; total time=   0.2s\n",
                        "[CV] END .........svc__C=10, svc__gamma=0.1, svc__kernel=rbf; total time=   0.2s\n",
                        "[CV] END ......svc__C=10, svc__gamma=0.1, svc__kernel=linear; total time=   0.2s\n",
                        "[CV] END ......svc__C=10, svc__gamma=0.1, svc__kernel=linear; total time=   0.2s\n",
                        "[CV] END ......svc__C=10, svc__gamma=0.1, svc__kernel=linear; total time=   0.1s\n",
                        "[CV] END ......svc__C=10, svc__gamma=0.1, svc__kernel=linear; total time=   0.2s\n",
                        "[CV] END ......svc__C=10, svc__gamma=0.1, svc__kernel=linear; total time=   0.1s\n",
                        "[CV] END ........svc__C=10, svc__gamma=0.01, svc__kernel=rbf; total time=   0.2s\n",
                        "[CV] END ........svc__C=10, svc__gamma=0.01, svc__kernel=rbf; total time=   0.2s\n",
                        "[CV] END ........svc__C=10, svc__gamma=0.01, svc__kernel=rbf; total time=   0.2s\n",
                        "[CV] END ........svc__C=10, svc__gamma=0.01, svc__kernel=rbf; total time=   0.2s\n",
                        "[CV] END ........svc__C=10, svc__gamma=0.01, svc__kernel=rbf; total time=   0.2s\n",
                        "[CV] END .....svc__C=10, svc__gamma=0.01, svc__kernel=linear; total time=   0.1s\n",
                        "[CV] END .....svc__C=10, svc__gamma=0.01, svc__kernel=linear; total time=   0.1s\n",
                        "[CV] END .....svc__C=10, svc__gamma=0.01, svc__kernel=linear; total time=   0.2s\n",
                        "[CV] END .....svc__C=10, svc__gamma=0.01, svc__kernel=linear; total time=   0.2s\n",
                        "[CV] END .....svc__C=10, svc__gamma=0.01, svc__kernel=linear; total time=   0.1s\n",
                        "\n",
                        "Optimized Model Report\n",
                        "              precision    recall  f1-score   support\n",
                        "\n",
                        "       False       0.96      0.97      0.97       455\n",
                        "        True       0.91      0.88      0.89       145\n",
                        "\n",
                        "    accuracy                           0.95       600\n",
                        "   macro avg       0.93      0.92      0.93       600\n",
                        "weighted avg       0.95      0.95      0.95       600\n",
                        "\n"
                    ]
                }
            ],
            "source": [
                "from sklearn.model_selection import GridSearchCV\n",
                "\n",
                "# Definir los parametros para el Grid Search\n",
                "param_grid = {\n",
                "    'svc__C': [0.1, 1, 10],\n",
                "    'svc__gamma': [1, 0.1, 0.01],\n",
                "    'svc__kernel': ['rbf', 'linear']\n",
                "}\n",
                "\n",
                "# Configurar el Grid Search\n",
                "grid = GridSearchCV(pipeline, param_grid, refit=True, verbose=2)\n",
                "\n",
                "# Entrenar el modelo optimizado\n",
                "grid.fit(X_train, y_train)\n",
                "\n",
                "# Predecir en el conjunto de prueba con el mejor modelo\n",
                "y_pred_optimized = grid.best_estimator_.predict(X_test)\n",
                "\n",
                "report_optimized = classification_report(y_test, y_pred_optimized, output_dict=True)\n",
                "accuracy_optimized = accuracy_score(y_test, y_pred_optimized)\n",
                "print(\"\\nOptimized Model Report\")\n",
                "print(classification_report(y_test, y_pred_optimized))"
            ]
        },
        {
            "cell_type": "markdown",
            "metadata": {},
            "source": [
                "Comparar modelo original y modelo optimizado"
            ]
        },
        {
            "cell_type": "code",
            "execution_count": 9,
            "metadata": {},
            "outputs": [
                {
                    "data": {
                        "image/png": "[encoded data removed]",
                        "text/plain": [
                            "<Figure size 800x600 with 1 Axes>"
                        ]
                    },
                    "metadata": {},
                    "output_type": "display_data"
                }
            ],
            "source": [
                "import matplotlib.pyplot as plt\n",
                "\n",
                "# Resultados de precisión (accuracy)\n",
                "accuracy_default = accuracy_score(y_test, y_pred)\n",
                "accuracy_optimized = accuracy_score(y_test, y_pred_optimized)\n",
                "\n",
                "# Crear un DataFrame con los resultados\n",
                "import pandas as pd\n",
                "\n",
                "results = pd.DataFrame({\n",
                "    'Modelo': ['Default SVM', 'Optimized SVM'],\n",
                "    'Accuracy': [accuracy_default, accuracy_optimized]\n",
                "})\n",
                "\n",
                "# Crear gráfico de barras\n",
                "plt.figure(figsize=(8, 6))\n",
                "plt.bar(results['Modelo'], results['Accuracy'], color=['blue', 'green'])\n",
                "plt.ylim(0, 1)\n",
                "plt.ylabel('Accuracy')\n",
                "plt.title('Comparación de Accuracy entre Modelos SVM')\n",
                "plt.show()"
            ]
        }
    ],
    "metadata": {
        "kernelspec": {
            "display_name": "Python 3.8.13 64-bit ('3.8.13')",
            "language": "python",
            "name": "python3"
        },
        "language_info": {
            "codemirror_mode": {
                "name": "ipython",
                "version": 3
            },
            "file_extension": ".py",
            "mimetype": "text/x-python",
            "name": "python",
            "nbconvert_exporter": "python",
            "pygments_lexer": "ipython3",
            "version": "3.8.13"
        },
        "orig_nbformat": 4,
        "vscode": {
            "interpreter": {
                "hash": "110cc1dee26208153f2972f08a2ad52b6a56238dc66d48e87fb757ef2996db56"
            }
        }
    },
    "nbformat": 4,
    "nbformat_minor": 2
}
